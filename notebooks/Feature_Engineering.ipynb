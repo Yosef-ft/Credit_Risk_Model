{
 "cells": [
  {
   "cell_type": "markdown",
   "metadata": {},
   "source": [
    "## Credit Risk Model"
   ]
  },
  {
   "cell_type": "markdown",
   "metadata": {},
   "source": [
    "###  Feature Engineering"
   ]
  },
  {
   "cell_type": "markdown",
   "metadata": {},
   "source": [
    "#### Importing necessary libraries"
   ]
  },
  {
   "cell_type": "code",
   "execution_count": 2,
   "metadata": {},
   "outputs": [],
   "source": [
    "import os\n",
    "import sys\n",
    "\n",
    "import pandas as pd\n",
    "import matplotlib.pyplot as plt\n",
    "import seaborn as sns\n",
    "\n",
    "from sklearn.preprocessing import LabelEncoder\n",
    "from sklearn.preprocessing import StandardScaler"
   ]
  },
  {
   "cell_type": "code",
   "execution_count": 3,
   "metadata": {},
   "outputs": [],
   "source": [
    "sys.path.append(os.path.abspath('../scripts'))\n",
    "\n",
    "from Utils import DataUtils\n",
    "from Preprocessor import FeatureEngineering\n",
    "\n",
    "data_utils = DataUtils()"
   ]
  },
  {
   "cell_type": "markdown",
   "metadata": {},
   "source": [
    "#### Feature Engineering"
   ]
  },
  {
   "cell_type": "code",
   "execution_count": 4,
   "metadata": {},
   "outputs": [
    {
     "name": "stderr",
     "output_type": "stream",
     "text": [
      "2024-10-06 08:46 - DEBUG :: Loading data from file...\n"
     ]
    }
   ],
   "source": [
    "filepath = '../data/data.csv'\n",
    "\n",
    "data = data_utils.load_data(filepath)\n",
    "data['TransactionStartTime'] = pd.to_datetime(data['TransactionStartTime'])"
   ]
  },
  {
   "cell_type": "code",
   "execution_count": 52,
   "metadata": {},
   "outputs": [],
   "source": [
    "feature_engineer = FeatureEngineering(data)\n",
    "data = feature_engineer.engineer_features()\n",
    "data.to_csv('../data/data.csv', index=False) # save the data, can revert it back because dvc is used"
   ]
  },
  {
   "cell_type": "markdown",
   "metadata": {},
   "source": [
    "#### Encode Categorical Variables"
   ]
  },
  {
   "cell_type": "code",
   "execution_count": 59,
   "metadata": {},
   "outputs": [],
   "source": [
    "# Label Encoding all the ids\n",
    "ids = ['TransactionId','BatchId', 'AccountId', 'SubscriptionId', 'CustomerId', 'CurrencyCode', 'ChannelId', 'ProviderId', 'ProductId']\n",
    "label_encode = LabelEncoder()\n",
    "for col in ids:\n",
    "    data[col] = label_encode.fit_transform(data[col])\n",
    "\n",
    "\n",
    "# Encoding \tProductCategory\n",
    "data = pd.get_dummies(data)\n",
    "\n",
    "data.to_csv('../data/data.csv', index=False) # save the data, can revert it back because dvc is used"
   ]
  },
  {
   "cell_type": "markdown",
   "metadata": {},
   "source": [
    "#### Standardization"
   ]
  },
  {
   "cell_type": "code",
   "execution_count": 65,
   "metadata": {},
   "outputs": [],
   "source": [
    "cols_standardize = ['Amount', 'Value', 'Total_transaction_amount', 'Average_transaction_amount', 'Transaction_Count', 'STD_Transaction_Amount']\n",
    "\n",
    "scaler = StandardScaler()\n",
    "\n",
    "data[cols_standardize] = scaler.fit_transform(data[cols_standardize])"
   ]
  }
 ],
 "metadata": {
  "kernelspec": {
   "display_name": ".venv",
   "language": "python",
   "name": "python3"
  },
  "language_info": {
   "codemirror_mode": {
    "name": "ipython",
    "version": 3
   },
   "file_extension": ".py",
   "mimetype": "text/x-python",
   "name": "python",
   "nbconvert_exporter": "python",
   "pygments_lexer": "ipython3",
   "version": "3.12.5"
  }
 },
 "nbformat": 4,
 "nbformat_minor": 2
}
